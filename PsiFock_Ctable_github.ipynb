{
 "cells": [
  {
   "cell_type": "markdown",
   "metadata": {},
   "source": [
    "### Imports"
   ]
  },
  {
   "cell_type": "code",
   "execution_count": 1,
   "metadata": {},
   "outputs": [],
   "source": [
    "import numpy as np\n",
    "from numpy.polynomial.hermite import hermval as H\n",
    "\n",
    "from scipy.special import factorial as fac\n",
    "from scipy.special import eval_hermite\n",
    "\n",
    "from sympy import symbols, diff, exp, Poly\n",
    "\n",
    "from mpmath import mp\n",
    "\n",
    "from numba import jit, njit\n"
   ]
  },
  {
   "cell_type": "markdown",
   "metadata": {},
   "source": [
    "### Functions for creating the coefficient table"
   ]
  },
  {
   "cell_type": "code",
   "execution_count": 2,
   "metadata": {},
   "outputs": [],
   "source": [
    "def hermite_sympy(n):\n",
    "\n",
    "    x = symbols(\"x\")\n",
    "    if n == 0:\n",
    "        return 1\n",
    "    else:\n",
    "        return ((-1)**n) * exp(x**2) * diff(exp(-x**2), x, n)\n",
    "\n",
    "def create_hermite_coefficients_table(N,integer):\n",
    "\n",
    "  x = symbols(\"x\")\n",
    "  C = np.zeros((N+1,N+1),dtype = object) if(integer) else np.zeros((N+1,N+1),dtype = np.float64)\n",
    "  C[0,N] = 1\n",
    "\n",
    "  for n in range(1,N+1):\n",
    "    c = Poly(hermite_sympy(n),x).all_coeffs()\n",
    "    for index in range(n,-1,-1):\n",
    "      C[n,(N+1)-index-1] = c[n-index] if(integer) else float(c[n-index])\n",
    "\n",
    "  return C"
   ]
  },
  {
   "cell_type": "markdown",
   "metadata": {},
   "source": [
    "### $\\psi_{n}(x)$ with numpy"
   ]
  },
  {
   "cell_type": "code",
   "execution_count": 3,
   "metadata": {},
   "outputs": [],
   "source": [
    "@jit(forceobj=True,looplift=True, boundscheck=False)\n",
    "def psiFock_numpy(n,x): # baseline-2 to infinit precision\n",
    "  n_array = np.zeros(n+1)\n",
    "  n_array[n] = 1\n",
    "  return (2**(-0.5*n))*(fac(n)**(-0.5))*(np.pi**(-0.25))*np.exp(-(x**2)/2)*H(x, n_array)"
   ]
  },
  {
   "cell_type": "markdown",
   "metadata": {},
   "source": [
    "### $\\psi_{n}(x)$ with scipy"
   ]
  },
  {
   "cell_type": "code",
   "execution_count": 4,
   "metadata": {},
   "outputs": [],
   "source": [
    "@jit(forceobj=True,looplift=True, boundscheck=False)\n",
    "def psiFock_scipy(n,x):# baseline-3 to infinit precision\n",
    "  return (2**(-0.5*n))*(fac(n)**(-0.5))*(np.pi**(-0.25))*np.exp(-(x**2)/2)*eval_hermite(n,x)"
   ]
  },
  {
   "cell_type": "markdown",
   "metadata": {},
   "source": [
    "### $\\psi_{n}(x)$ with the Table of Coefficients and Numba optimization"
   ]
  },
  {
   "cell_type": "code",
   "execution_count": 8,
   "metadata": {},
   "outputs": [],
   "source": [
    "C_float = create_hermite_coefficients_table(100,False)\n",
    "\n",
    "@njit(nopython=True,looplift=True, nogil=True, boundscheck=False)\n",
    "def factorial_opt(n):\n",
    "    result = 1\n",
    "    for i in range(2, n + 1):\n",
    "        result *= i\n",
    "    return result\n",
    "\n",
    "@njit(nopython=True,looplift=True,nogil=True, boundscheck=False)\n",
    "def psiFock_C_table_opt(n,x):\n",
    "\n",
    "  coeff_vector = C_float[n]\n",
    "  c_size = C_float.shape[0]\n",
    "  zero_index_vector = np.where(coeff_vector == 0)[0]\n",
    "  x_power = np.array([ 0.0 if(i in zero_index_vector) else x**(c_size-i-1) for i in range(c_size)],dtype=np.float64)\n",
    "  return np.dot(coeff_vector, x_power)*np.exp(-(x**2)/2)*(2**(-0.5*n))*(factorial_opt(n)**(-0.5))*(np.pi**(-0.25))\n"
   ]
  },
  {
   "cell_type": "markdown",
   "metadata": {},
   "source": [
    "### Hibrid $\\psi_{n}(x)$"
   ]
  },
  {
   "cell_type": "code",
   "execution_count": 9,
   "metadata": {},
   "outputs": [],
   "source": [
    "def psiFock_C_table_opt_scipy(n,x):\n",
    "   \n",
    "   if(n<=20):\n",
    "      return psiFock_C_table_opt(n,x)\n",
    "   else:\n",
    "      return psiFock_scipy(n,x)"
   ]
  }
 ],
 "metadata": {
  "kernelspec": {
   "display_name": "nlp",
   "language": "python",
   "name": "python3"
  },
  "language_info": {
   "codemirror_mode": {
    "name": "ipython",
    "version": 3
   },
   "file_extension": ".py",
   "mimetype": "text/x-python",
   "name": "python",
   "nbconvert_exporter": "python",
   "pygments_lexer": "ipython3",
   "version": "3.11.5"
  }
 },
 "nbformat": 4,
 "nbformat_minor": 2
}
